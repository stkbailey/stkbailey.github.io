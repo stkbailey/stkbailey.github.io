{
 "cells": [
  {
   "cell_type": "markdown",
   "metadata": {
    "deletable": true,
    "editable": true
   },
   "source": [
    "## Get data from Meetup.com\n",
    "\n",
    "We are going to get data from Meetup's API. You can create custom requests using their API console, then make them via Python by copying the secure link here.\n",
    "\n",
    "https://secure.meetup.com/meetup_api/console/?path=/2/members"
   ]
  },
  {
   "cell_type": "code",
   "execution_count": 3,
   "metadata": {
    "collapsed": false,
    "deletable": true,
    "editable": true
   },
   "outputs": [
    {
     "data": {
      "text/plain": [
       "'C:\\\\Users\\\\stkba\\\\OneDrive\\\\Documents\\\\GitHub\\\\stkbailey.github.io\\\\assets\\\\pynash_networkx'"
      ]
     },
     "execution_count": 3,
     "metadata": {},
     "output_type": "execute_result"
    }
   ],
   "source": [
    "import pandas as pd\n",
    "import numpy as np\n",
    "import requests\n",
    "import os\n",
    "import json\n",
    "\n",
    "os.getcwd()"
   ]
  },
  {
   "cell_type": "markdown",
   "metadata": {
    "deletable": true,
    "editable": true
   },
   "source": [
    "#### Get PyNash Members"
   ]
  },
  {
   "cell_type": "code",
   "execution_count": 85,
   "metadata": {
    "collapsed": false,
    "deletable": true,
    "editable": true
   },
   "outputs": [],
   "source": [
    "def get_group_members(group_urlname):\n",
    "    members = pd.DataFrame()\n",
    "\n",
    "    for page in np.arange(10):\n",
    "        q = 'https://api.meetup.com/2/members?format=json&group_urlname={}&page=200&offset={}&key=1eb16676d664fa48314391ae5b6c'.format(group_urlname, page)\n",
    "        response = requests.get(q).json()\n",
    "        if len(response['results']) > 0:\n",
    "            tdf = pd.DataFrame.from_dict(response['results']).set_index('id')\n",
    "            members = members.append(tdf)\n",
    "        else: \n",
    "            continue\n",
    "\n",
    "    members = members[['name', 'city',  'state', 'hometown', 'joined',  'visited', 'lat', 'lon']] # 'topics' might also be of interest\n",
    "    members['group_urlname'] = group_urlname\n",
    "    \n",
    "    return members\n",
    "    \n",
    "def agg_group_members(list_of_group_urlnames, write_path=None):\n",
    "    all_members = pd.DataFrame()\n",
    "    \n",
    "    for group in list_of_group_urlnames:\n",
    "        tdf = get_group_members(group)\n",
    "        all_members = all_members.append(tdf)\n",
    "\n",
    "    # Write to computer\n",
    "    if write_path:\n",
    "        all_members.to_csv(write_path, encoding='utf-8') \n",
    "    \n",
    "    return all_members\n"
   ]
  },
  {
   "cell_type": "code",
   "execution_count": null,
   "metadata": {
    "collapsed": false
   },
   "outputs": [],
   "source": [
    "all_members = agg_group_members(nash_groups.urlname.tolist(), 'data_allmembers.csv')"
   ]
  },
  {
   "cell_type": "code",
   "execution_count": 73,
   "metadata": {
    "collapsed": false
   },
   "outputs": [],
   "source": [
    "from time import sleep\n",
    "import json\n",
    "\n",
    "cols = ('group_id', 'group_name', 'num_members', 'category_id', \n",
    "        'category_name', 'organizer_id', 'group_urlname')\n",
    "nash_groups = pd.DataFrame(columns=cols)\n",
    "\n",
    "for page in np.arange(10):\n",
    "    q = 'https://api.meetup.com/find/groups?&sign=true&photo-host=public&location=nashville tn&radius=25&page=200&offset={}&key=1eb16676d664fa48314391ae5b6c'.format(page) \n",
    "    response = requests.get(q).json()\n",
    "    if len(response) > 0:\n",
    "        try:\n",
    "            for g in response:\n",
    "                s = pd.Series((g['id'], g['name'], g['members'], g['category']['id'], \n",
    "                               g['category']['name'], g['organizer']['id'], g['urlname']),\n",
    "                             index=cols)\n",
    "                nash_groups = nash_groups.append(s, ignore_index=True)\n",
    "        except: \n",
    "            continue\n",
    "    # Sleep briefly so that API doesn't get overwhelmed\n",
    "    sleep(0.2)\n",
    "        \n",
    "\n",
    "# Write to computer\n",
    "write_data = True\n",
    "if write_data == True:\n",
    "    nash_groups.to_csv('data_groups.csv', index=None) \n"
   ]
  },
  {
   "cell_type": "markdown",
   "metadata": {
    "deletable": true,
    "editable": true
   },
   "source": [
    "#### Get memberships for each member"
   ]
  },
  {
   "cell_type": "code",
   "execution_count": 27,
   "metadata": {
    "collapsed": false,
    "deletable": true,
    "editable": true
   },
   "outputs": [],
   "source": [
    "from time import sleep\n",
    "import json\n",
    "\n",
    "\n",
    "edges = pd.DataFrame()\n",
    "err_ids = []\n",
    "for pid in members.index:\n",
    "    r = requests.get('https://api.meetup.com/2/groups?&sign=true&member_id={}&page=200&key=1eb16676d664fa48314391ae5b6c'.format(pid))\n",
    "    try:\n",
    "        r = r.json()\n",
    "        for membership in r['results']:\n",
    "            edge = pd.Series({'member_id': pid, \n",
    "                              'group_id': membership['id'], \n",
    "                              'group_name': membership['name']})\n",
    "            edges = edges.append(edge, ignore_index=True)\n",
    "    except json.decoder.JSONDecodeError:\n",
    "        print(pid)\n",
    "        err_ids.append(pid)\n",
    "    \n",
    "    # Sleep briefly so that API doesn't get overwhelmed\n",
    "    sleep(0.2)\n",
    "        \n",
    "\n",
    "# Write to computer\n",
    "write_data = True\n",
    "if write_data == True:\n",
    "    edges.to_csv('data_edges.csv') \n"
   ]
  }
 ],
 "metadata": {
  "kernelspec": {
   "display_name": "Python [default]",
   "language": "python",
   "name": "python3"
  },
  "language_info": {
   "codemirror_mode": {
    "name": "ipython",
    "version": 3
   },
   "file_extension": ".py",
   "mimetype": "text/x-python",
   "name": "python",
   "nbconvert_exporter": "python",
   "pygments_lexer": "ipython3",
   "version": "3.6.0"
  }
 },
 "nbformat": 4,
 "nbformat_minor": 2
}
