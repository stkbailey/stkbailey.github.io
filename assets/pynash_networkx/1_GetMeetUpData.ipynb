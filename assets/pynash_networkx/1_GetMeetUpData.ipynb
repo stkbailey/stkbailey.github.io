{
 "cells": [
  {
   "cell_type": "markdown",
   "metadata": {},
   "source": [
    "## Get data from Meetup.com\n",
    "\n",
    "We are going to get data from Meetup's API. You can create custom requests using their API console, then make them via Python by copying the secure link here.\n",
    "\n",
    "https://secure.meetup.com/meetup_api/console/?path=/2/members"
   ]
  },
  {
   "cell_type": "code",
   "execution_count": 1,
   "metadata": {
    "collapsed": false
   },
   "outputs": [
    {
     "data": {
      "text/plain": [
       "'C:\\\\Users\\\\stkba\\\\OneDrive\\\\Documents\\\\GitHub\\\\stkbailey.github.io\\\\assets\\\\pynash_networkx'"
      ]
     },
     "execution_count": 1,
     "metadata": {},
     "output_type": "execute_result"
    }
   ],
   "source": [
    "import pandas as pd\n",
    "import numpy as np\n",
    "import requests\n",
    "import os\n",
    "\n",
    "os.getcwd()"
   ]
  },
  {
   "cell_type": "markdown",
   "metadata": {},
   "source": [
    "#### Get PyNash Members"
   ]
  },
  {
   "cell_type": "code",
   "execution_count": 2,
   "metadata": {
    "collapsed": false
   },
   "outputs": [
    {
     "name": "stdout",
     "output_type": "stream",
     "text": [
      "There are 1433 members in the PyNash MeetUp group.\n"
     ]
    }
   ],
   "source": [
    "members = pd.DataFrame()\n",
    "for page in np.arange(10):\n",
    "    q = 'https://api.meetup.com/2/members?offset={}&format=json&group_urlname=PyNash&page=200&key=1eb16676d664fa48314391ae5b6c'.format(page)\n",
    "    response = requests.get(q).json()\n",
    "    if len(response['results']) > 0:\n",
    "        tdf = pd.DataFrame.from_dict(response['results']).set_index('id')\n",
    "        members = members.append(tdf)\n",
    "    else: \n",
    "        continue\n",
    "    \n",
    "members = members[['name', 'city',  'state', 'hometown', 'joined',  'visited', 'lat', 'lon']] # 'topics' might also be of interest\n",
    "\n",
    "# Write to computer\n",
    "write_data = True\n",
    "if write_data == True:\n",
    "    members.to_csv('data_members.csv') \n",
    "    \n",
    "print('There are {} members in the PyNash MeetUp group.'.format(members.shape[0]))"
   ]
  },
  {
   "cell_type": "markdown",
   "metadata": {},
   "source": [
    "#### Get memberships for each member"
   ]
  },
  {
   "cell_type": "code",
   "execution_count": 5,
   "metadata": {
    "collapsed": false
   },
   "outputs": [],
   "source": []
  },
  {
   "cell_type": "code",
   "execution_count": 9,
   "metadata": {
    "collapsed": false
   },
   "outputs": [
    {
     "ename": "ImportError",
     "evalue": "cannot import name 'JSONDecodeError'",
     "output_type": "error",
     "traceback": [
      "\u001b[1;31m---------------------------------------------------------------------------\u001b[0m",
      "\u001b[1;31mImportError\u001b[0m                               Traceback (most recent call last)",
      "\u001b[1;32m<ipython-input-9-65d16715c480>\u001b[0m in \u001b[0;36m<module>\u001b[1;34m()\u001b[0m\n\u001b[1;32m----> 1\u001b[1;33m \u001b[1;32mfrom\u001b[0m \u001b[0mrequests\u001b[0m \u001b[1;32mimport\u001b[0m \u001b[0mJSONDecodeError\u001b[0m\u001b[1;33m\u001b[0m\u001b[0m\n\u001b[0m",
      "\u001b[1;31mImportError\u001b[0m: cannot import name 'JSONDecodeError'"
     ]
    }
   ],
   "source": [
    "from requests import JSONDecodeError"
   ]
  },
  {
   "cell_type": "code",
   "execution_count": 27,
   "metadata": {
    "collapsed": false
   },
   "outputs": [],
   "source": [
    "from time import sleep\n",
    "import json\n",
    "\n",
    "\n",
    "edges = pd.DataFrame()\n",
    "err_ids = []\n",
    "for pid in members.index:\n",
    "    r = requests.get('https://api.meetup.com/2/groups?&sign=true&member_id={}&page=200&key=1eb16676d664fa48314391ae5b6c'.format(pid))\n",
    "    try:\n",
    "        r = r.json()\n",
    "        for membership in r['results']:\n",
    "            edge = pd.Series({'member_id': pid, \n",
    "                              'group_id': membership['id'], \n",
    "                              'group_name': membership['name']})\n",
    "            edges = edges.append(edge, ignore_index=True)\n",
    "    except json.decoder.JSONDecodeError:\n",
    "        print(pid)\n",
    "        err_ids.append(pid)\n",
    "    \n",
    "    # Sleep briefly so that API doesn't get overwhelmed\n",
    "    sleep(0.2)\n",
    "        \n",
    "\n",
    "# Write to computer\n",
    "write_data = True\n",
    "if write_data == True:\n",
    "    edges.to_csv('data_edges.csv') \n"
   ]
  },
  {
   "cell_type": "code",
   "execution_count": 28,
   "metadata": {
    "collapsed": false
   },
   "outputs": [
    {
     "data": {
      "text/plain": [
       "(18269, 3)"
      ]
     },
     "execution_count": 28,
     "metadata": {},
     "output_type": "execute_result"
    }
   ],
   "source": [
    "edges.shape"
   ]
  },
  {
   "cell_type": "code",
   "execution_count": 25,
   "metadata": {
    "collapsed": false
   },
   "outputs": [
    {
     "ename": "ModuleNotFoundError",
     "evalue": "No module named 'networkx'",
     "output_type": "error",
     "traceback": [
      "\u001b[1;31m---------------------------------------------------------------------------\u001b[0m",
      "\u001b[1;31mModuleNotFoundError\u001b[0m                       Traceback (most recent call last)",
      "\u001b[1;32m<ipython-input-25-f405e2f59ad1>\u001b[0m in \u001b[0;36m<module>\u001b[1;34m()\u001b[0m\n\u001b[1;32m----> 1\u001b[1;33m \u001b[1;32mimport\u001b[0m \u001b[0mnetworkx\u001b[0m\u001b[1;33m\u001b[0m\u001b[0m\n\u001b[0m\u001b[0;32m      2\u001b[0m \u001b[1;33m\u001b[0m\u001b[0m\n\u001b[0;32m      3\u001b[0m \u001b[0mg\u001b[0m \u001b[1;33m=\u001b[0m \u001b[0mnx\u001b[0m\u001b[1;33m.\u001b[0m\u001b[0mfrom_edgelist\u001b[0m\u001b[1;33m(\u001b[0m\u001b[0medges\u001b[0m\u001b[1;33m[\u001b[0m\u001b[1;33m[\u001b[0m\u001b[1;34m'member_id'\u001b[0m\u001b[1;33m,\u001b[0m \u001b[1;34m'group_name'\u001b[0m\u001b[1;33m]\u001b[0m\u001b[1;33m]\u001b[0m\u001b[1;33m)\u001b[0m\u001b[1;33m\u001b[0m\u001b[0m\n",
      "\u001b[1;31mModuleNotFoundError\u001b[0m: No module named 'networkx'"
     ]
    }
   ],
   "source": [
    "import networkx\n",
    "\n",
    "g = nx.from_edgelist(edges[['member_id', 'group_name']])"
   ]
  },
  {
   "cell_type": "code",
   "execution_count": 89,
   "metadata": {
    "collapsed": false
   },
   "outputs": [],
   "source": [
    "    r = requests.get('https://api.meetup.com/2/groups?&sign=true&member_id={}&page=200&key=1eb16676d664fa48314391ae5b6c'.format(pid))\n"
   ]
  },
  {
   "cell_type": "code",
   "execution_count": 64,
   "metadata": {
    "collapsed": false
   },
   "outputs": [
    {
     "name": "stdout",
     "output_type": "stream",
     "text": [
      "Jamie\n",
      "Jamie Isabel\n",
      "Jan Van Zeghbroeck\n",
      "Jana Black\n",
      "Jaquelin\n",
      "Jared Bunting\n",
      "Jared Cleghorn\n",
      "Jared Edwards\n",
      "Jared Fuller\n",
      "Jarrod Smith\n",
      "Jarvis Stubblefield\n",
      "Jason\n",
      "Jason Bates\n",
      "Jason Bynum\n",
      "Jason Bynum\n",
      "Jason Cater\n",
      "Jason K.\n",
      "Jason Myers\n",
      "Jason Orendorff\n",
      "Jason Schuster\n",
      "Jason Scott\n",
      "Jason Smith\n",
      "jason w\n",
      "Jason Weaver\n",
      "Jay H\n",
      "Jay Maul\n",
      "Jayme Kolling\n",
      "Jayson Rich\n",
      "JB\n",
      "JC Hwang\n",
      "Jean Söderkvist\n",
      "Jeff Bauer\n",
      "Jeff Bowen\n",
      "Jeff Collins\n",
      "Jeff Deskins\n",
      "Jeff Finley\n",
      "Jeff Hammond\n",
      "Jeff Kuykendall\n",
      "Jeff Lockwood\n",
      "Jeffrey Druin\n",
      "Jenese McCarroll\n",
      "Jenkinsharold26\n",
      "Jennie M\n",
      "Jennifer\n",
      "Jerad Clifford\n",
      "Jeremiah Cundiff\n",
      "Jeremiah Mathis\n",
      "Jeremy\n",
      "Jeremy C. Swain\n",
      "Jeremy Estrada\n",
      "Jeremy Phelps\n",
      "Jeremy Pitt\n",
      "Jeremy Wink\n",
      "Jeremy Young\n",
      "Jerome Duran\n",
      "Jerry Baker\n",
      "Jess Short\n",
      "Jesse\n",
      "Jesse Ford\n",
      "Jesse Keogh\n",
      "Jessica\n",
      "Jessica \n",
      "Jessica Whitman\n",
      "Jessica Wynn\n",
      "Jessica Younker\n",
      "Jessie Valentino\n",
      "Jim Adkins\n",
      "Jim Fuqua\n",
      "Jim V\n",
      "Jingsai Liang\n",
      "Jingtian Fang\n",
      "Jiovanni\n",
      "jloftis\n",
      "jlsnyder08\n",
      "Jmead4\n",
      "JoAnn Alvarez\n",
      "Joanne Eckton\n",
      "Jody Sumner\n",
      "Joe Drury\n",
      "Joe Hatcher\n",
      "Joe Hills\n",
      "Joe Morris\n",
      "Joe Phillips\n",
      "Joe_H\n",
      "Joel\n",
      "Joel Kronk\n",
      "Joel Legg\n",
      "Joel Lowery\n",
      "Joey Kirby \n",
      "Joey Krabacher\n",
      "Joey Turner\n",
      "Johan Stodberg\n",
      "John\n",
      "John\n",
      "John\n",
      "John Cobb\n",
      "John Harris\n",
      "John Henry Green Jr.\n",
      "John Liu\n",
      "John Mayberry\n",
      "John O\n",
      "john omahen\n",
      "John Ottenlips\n",
      "John P.\n",
      "John Quarles\n",
      "John Simmons\n",
      "John Smith\n",
      "John Still\n",
      "John Wagster\n",
      "John Wark\n",
      "John Wilson\n",
      "John Wise\n",
      "Johnathan\n",
      "Johnathon Dewayne Davis\n",
      "Johnie Waddell\n",
      "Johnny Souriyaphong\n",
      "Jon Hansen\n",
      "Jon Murillo\n",
      "Jon Peck\n",
      "Jon Staples\n",
      "Jon Walker\n",
      "Jonathan Adams\n",
      "Jonathan H\n",
      "Jonathan H.\n",
      "Jonathan Holt\n",
      "Jonathan Kryza\n",
      "Jonathan McElroy\n",
      "Jonathan Richardson\n",
      "Jordan Dodson\n",
      "Jordan M.\n",
      "Jordan Nelson\n",
      "Jordan Singer\n",
      "Jordan Speller\n",
      "Joseph Degati\n",
      "Joseph Dunn\n",
      "Joseph Ensminger\n",
      "Joseph McMurry\n",
      "Joseph Porter\n",
      "Joseph Shively\n",
      "Joseph Steimle\n",
      "Joseph T Bradley\n",
      "Joseph Tatarczuk\n",
      "Joseph Wichman\n",
      "JosephKane\n",
      "Josh\n",
      "Josh\n",
      "Josh\n",
      "Josh Arnold\n",
      "Josh E\n",
      "Josh Gieringer\n",
      "Josh Kersey\n",
      "Josh O'Rourke\n",
      "Josh Palmer\n",
      "Josh Price\n",
      "Josh Stephens\n",
      "Josh White\n",
      "Josh Wolter\n",
      "Joshua Aronson\n",
      "Joshua Atkins\n",
      "Joshua Bowers\n",
      "Joshua Fain\n",
      "Joshua H.\n",
      "Joshua Keough\n",
      "Joshua Pruitt\n",
      "Joshua Puckett\n",
      "Joshua Sonnenburg\n",
      "Joumana\n",
      "Joy\n",
      "Joy Pratt\n",
      "Juan Felipe Ortiz\n",
      "Juan Job\n",
      "Jufe Brown-Tsai\n",
      "Juli\n",
      "Julia\n",
      "Julia Allen\n",
      "Julia Brinkmann\n",
      "Julia Kim-Chung\n",
      "Julian Bankston\n",
      "Julie\n",
      "Julie Barnick\n",
      "Junie George\n",
      "Jurnell Cockhren\n",
      "Justin Adams\n",
      "Justin Barr\n",
      "Justin Cox\n",
      "Justin Cox\n",
      "Justin Hensley\n",
      "Justin Hoover\n",
      "Justin Sadler\n",
      "Justin Threlkeld\n",
      "juzten\n",
      "Jyothi Jayakrishna\n",
      "Kabir\n",
      "Kadeem Pardue\n",
      "Kadu\n",
      "Kanesha Patterson\n",
      "Kanesha Patterson\n",
      "Kar Martirosyan\n",
      "Kareem Nicholas\n",
      "Karla\n"
     ]
    }
   ],
   "source": [
    "for member in response_from_meetup.json()['results']:\n",
    "    try:\n",
    "        print(member[''])\n",
    "    except:\n",
    "        pass"
   ]
  },
  {
   "cell_type": "code",
   "execution_count": 8,
   "metadata": {
    "collapsed": false
   },
   "outputs": [
    {
     "name": "stdout",
     "output_type": "stream",
     "text": [
      "123\n"
     ]
    }
   ],
   "source": [
    "from pprint import pprint\n",
    "pprint(response_from_meetup.content[0])"
   ]
  },
  {
   "cell_type": "code",
   "execution_count": 16,
   "metadata": {
    "collapsed": false
   },
   "outputs": [
    {
     "ename": "TypeError",
     "evalue": "'module' object is not callable",
     "output_type": "error",
     "traceback": [
      "\u001b[1;31m---------------------------------------------------------------------------\u001b[0m",
      "\u001b[1;31mTypeError\u001b[0m                                 Traceback (most recent call last)",
      "\u001b[1;32m<ipython-input-16-f59a10228258>\u001b[0m in \u001b[0;36m<module>\u001b[1;34m()\u001b[0m\n\u001b[0;32m      2\u001b[0m \u001b[1;32mimport\u001b[0m \u001b[0murllib3\u001b[0m\u001b[1;33m\u001b[0m\u001b[0m\n\u001b[0;32m      3\u001b[0m \u001b[1;33m\u001b[0m\u001b[0m\n\u001b[1;32m----> 4\u001b[1;33m \u001b[0mdata\u001b[0m \u001b[1;33m=\u001b[0m \u001b[0mjson\u001b[0m\u001b[1;33m.\u001b[0m\u001b[0mscanner\u001b[0m\u001b[1;33m(\u001b[0m\u001b[0mresponse_from_meetup\u001b[0m\u001b[1;33m.\u001b[0m\u001b[0mtext\u001b[0m\u001b[1;33m)\u001b[0m\u001b[1;33m\u001b[0m\u001b[0m\n\u001b[0m",
      "\u001b[1;31mTypeError\u001b[0m: 'module' object is not callable"
     ]
    }
   ],
   "source": [
    "import json\n",
    "import urllib3\n",
    "\n",
    "data = json.scanner(response_from_meetup.text)"
   ]
  }
 ],
 "metadata": {
  "kernelspec": {
   "display_name": "Python [conda env:py3]",
   "language": "python",
   "name": "conda-env-py3-py"
  },
  "language_info": {
   "codemirror_mode": {
    "name": "ipython",
    "version": 3
   },
   "file_extension": ".py",
   "mimetype": "text/x-python",
   "name": "python",
   "nbconvert_exporter": "python",
   "pygments_lexer": "ipython3",
   "version": "3.6.0"
  }
 },
 "nbformat": 4,
 "nbformat_minor": 2
}
