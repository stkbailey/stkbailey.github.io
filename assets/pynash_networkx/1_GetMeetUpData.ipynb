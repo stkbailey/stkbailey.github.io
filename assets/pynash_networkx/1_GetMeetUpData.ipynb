{
 "cells": [
  {
   "cell_type": "markdown",
   "metadata": {
    "deletable": true,
    "editable": true
   },
   "source": [
    "## Get data from Meetup.com\n",
    "\n",
    "We are going to get data from Meetup's API. You can create custom requests using their API console, then make them via Python by copying the secure link here.\n",
    "\n",
    "https://secure.meetup.com/meetup_api/console/?path=/2/members"
   ]
  },
  {
   "cell_type": "code",
   "execution_count": 1,
   "metadata": {
    "collapsed": false,
    "deletable": true,
    "editable": true
   },
   "outputs": [],
   "source": [
    "import pandas as pd\n",
    "import numpy as np\n",
    "import requests\n",
    "import os\n",
    "\n",
    "os.getcwd()"
   ]
  },
  {
   "cell_type": "markdown",
   "metadata": {
    "deletable": true,
    "editable": true
   },
   "source": [
    "#### Get PyNash Members"
   ]
  },
  {
   "cell_type": "code",
   "execution_count": 5,
   "metadata": {
    "collapsed": false,
    "deletable": true,
    "editable": true
   },
   "outputs": [
    {
     "name": "stdout",
     "output_type": "stream",
     "text": [
      "There are 1433 members in the PyNash MeetUp group.\n"
     ]
    }
   ],
   "source": [
    "members = pd.DataFrame()\n",
    "\n",
    "for page in np.arange(10):\n",
    "    q = 'https://api.meetup.com/2/members?offset={}&format=json&group_urlname=PyNash&page=200&key=1eb16676d664fa48314391ae5b6c'.format(page)\n",
    "    response = requests.get(q).json()\n",
    "    if len(response['results']) > 0:\n",
    "        tdf = pd.DataFrame.from_dict(response['results']).set_index('id')\n",
    "        members = members.append(tdf)\n",
    "    else: \n",
    "        continue\n",
    "    \n",
    "members = members[['name', 'city',  'state', 'hometown', 'joined',  'visited', 'lat', 'lon']] # 'topics' might also be of interest\n",
    "\n",
    "# Write to computer\n",
    "write_data = True\n",
    "if write_data == True:\n",
    "    members.to_csv('data_members.csv', encoding='utf-8') \n",
    "    \n",
    "print('There are {} members in the PyNash MeetUp group.'.format(members.shape[0]))"
   ]
  },
  {
   "cell_type": "markdown",
   "metadata": {
    "deletable": true,
    "editable": true
   },
   "source": [
    "#### Get memberships for each member"
   ]
  },
  {
   "cell_type": "code",
   "execution_count": 27,
   "metadata": {
    "collapsed": false,
    "deletable": true,
    "editable": true
   },
   "outputs": [],
   "source": [
    "from time import sleep\n",
    "import json\n",
    "\n",
    "\n",
    "edges = pd.DataFrame()\n",
    "err_ids = []\n",
    "for pid in members.index:\n",
    "    r = requests.get('https://api.meetup.com/2/groups?&sign=true&member_id={}&page=200&key=1eb16676d664fa48314391ae5b6c'.format(pid))\n",
    "    try:\n",
    "        r = r.json()\n",
    "        for membership in r['results']:\n",
    "            edge = pd.Series({'member_id': pid, \n",
    "                              'group_id': membership['id'], \n",
    "                              'group_name': membership['name']})\n",
    "            edges = edges.append(edge, ignore_index=True)\n",
    "    except json.decoder.JSONDecodeError:\n",
    "        print(pid)\n",
    "        err_ids.append(pid)\n",
    "    \n",
    "    # Sleep briefly so that API doesn't get overwhelmed\n",
    "    sleep(0.2)\n",
    "        \n",
    "\n",
    "# Write to computer\n",
    "write_data = True\n",
    "if write_data == True:\n",
    "    edges.to_csv('data_edges.csv') \n"
   ]
  }
 ],
 "metadata": {
  "kernelspec": {
   "display_name": "Python 3",
   "language": "python",
   "name": "python3"
  },
  "language_info": {
   "codemirror_mode": {
    "name": "ipython",
    "version": 3
   },
   "file_extension": ".py",
   "mimetype": "text/x-python",
   "name": "python",
   "nbconvert_exporter": "python",
   "pygments_lexer": "ipython3",
   "version": "3.6.0"
  }
 },
 "nbformat": 4,
 "nbformat_minor": 2
}
